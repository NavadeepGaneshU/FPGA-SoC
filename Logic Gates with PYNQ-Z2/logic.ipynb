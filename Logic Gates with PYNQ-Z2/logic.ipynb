
#Simple python script to implement logic gates in FPGA!
#https://www.clevertronics.blogspot.com
#Used Hardware : XILINX ZYNQ 7020 SoC [PYNQ-Z2]
#Used IDE : Jupyter Notebook [Web based]


#AND GATE
from pynq.overlays.logictools import LogicToolsOverlay   #Initialisations  
logictools_olay=LogicToolsOverlay('logictools.bit')  
boolean_generator=logictools_olay.boolean_generator  
  
function={'AND_gate':'LD2=PB3&PB0'} #Driver Logic  
  
boolean_generator=logictools_olay.boolean_generator  
boolean_generator.setup(function)  
  
boolean_generator.run()  
  
boolean_generator.stop()  

 #OR GATE
 function={'OR_gate':'LD2=PB3|PB0'}  
 
 #NOT GATE 
 function={'NOT_gate':'LD2=~~PB0'} #OFF to ON
 
 #NAND GATE 
 function={'NAND_gate':'LD2=~(PB3&PB0)'}  
 
 #NOR GATE
 function={'NOR_gate':'LD2=~(PB3|PB0)'}  
 
 #XOR GATE 
 function={'XOR_gate':'LD2=PB3^PB0'}  
